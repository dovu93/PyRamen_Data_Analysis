{
 "cells": [
  {
   "cell_type": "code",
   "execution_count": 73,
   "metadata": {},
   "outputs": [
    {
     "name": "stdout",
     "output_type": "stream",
     "text": [
      "Done\n"
     ]
    }
   ],
   "source": [
    "import pandas as pd\n",
    "from pathlib import Path\n",
    "import matplotlib.pyplot as plt\n",
    "from datetime import datetime as dt\n",
    "\n",
    "\n",
    "sales_csv_path = Path('../Data/sales_data.csv')\n",
    "menu_csv_path = Path('../Data/menu_data.csv')\n",
    "\n",
    "def cleanup_df_sum(df):\n",
    "    df = df.drop(columns = ['Quantity_Over_Time', 'Revenue_Over_Time', 'Line_Item_ID', 'Cost', 'Price', 'Revenue'])\n",
    "    df.set_index('Date', inplace = True)\n",
    "    df = df.groupby(by = [df.index.year, df.index.month]).sum()\n",
    "    return df\n",
    "\n",
    "\n",
    "def cleanup_df_count(df):\n",
    "    df = df.drop(columns = ['Quantity_Over_Time', 'Revenue_Over_Time', 'Line_Item_ID', 'Cost', 'Price', 'Revenue'])\n",
    "    df.set_index('Date', inplace = True)\n",
    "    df = df.groupby(by = [df.index.year, df.index.month]).count()\n",
    "    return df\n",
    "\n",
    "sales_df = pd.read_csv(sales_csv_path)\n",
    "menu_df = pd.read_csv(menu_csv_path)\n",
    "\n",
    "sales_df['Date'] = pd.to_datetime(sales_df['Date'])\n",
    "\n",
    "sales_df['Customer_Id'] = 0\n",
    "\n",
    "count = 1\n",
    "list_of_customer_numbers = {}\n",
    "\n",
    "for credit_card_number in sales_df['Credit_Card_Number']:\n",
    "    if credit_card_number in list_of_customer_numbers:\n",
    "        pass\n",
    "    else:\n",
    "        list_of_customer_numbers[credit_card_number] = count\n",
    "        count+=1\n",
    "        \n",
    "for index, row in sales_df.iterrows():\n",
    "    if row[2] in list_of_customer_numbers.keys():\n",
    "        sales_df.iloc[index,5] = list_of_customer_numbers[row[2]]\n",
    "        \n",
    "\n",
    "menu_df.set_index('item', inplace = True)\n",
    "sales_df.set_index('Menu_Item', inplace = True)\n",
    "\n",
    "combined_df = sales_df.join(menu_df)\n",
    "combined_df.reset_index(inplace = True)\n",
    "combined_df.rename(columns = {'index': \"Item_Ordered\", 'price': 'Price', 'cost': 'Cost'}, inplace = True)\n",
    "combined_df.drop(columns = ['Credit_Card_Number', 'description', 'category'], inplace = True)\n",
    "combined_df['Revenue'] = (combined_df['Quantity']*combined_df['Price'])-combined_df['Cost']\n",
    "\n",
    "combined_df = sales_df.join(menu_df)\n",
    "combined_df.reset_index(inplace = True)\n",
    "combined_df.rename(columns = {'index': \"Item_Ordered\", 'price': 'Price', 'cost': 'Cost'}, inplace = True)\n",
    "combined_df.drop(columns = ['Credit_Card_Number', 'description', 'category'], inplace = True)\n",
    "combined_df['Revenue'] = (combined_df['Quantity']*combined_df['Price'])-combined_df['Cost']\n",
    "\n",
    "list_of_menu_items = []\n",
    "for item in combined_df['Item_Ordered']:\n",
    "    if item in list_of_menu_items:\n",
    "        pass\n",
    "    else:\n",
    "        list_of_menu_items.append(item)\n",
    "        \n",
    "        \n",
    "combined_df['Item_Quantity_Over_Time'] = 0\n",
    "combined_df['Item_Revenue_Over_Time'] = 0\n",
    "combined_df['Quantity_Over_Time'] = 0\n",
    "combined_df['Revenue_Over_Time'] = 0\n",
    "\n",
    "for index, row in combined_df.iterrows():\n",
    "    if combined_df.iloc[index]['Item_Ordered'] == combined_df.iloc[-1+index]['Item_Ordered']:\n",
    "        combined_df.iloc[index, 8] = (combined_df.iloc[index, 3] + combined_df.iloc[index-1, 8])\n",
    "        combined_df.iloc[index, 9] = (combined_df.iloc[index, 7] + combined_df.iloc[index-1, 9])\n",
    "    else:\n",
    "        combined_df.iloc[index, 8] = combined_df.iloc[index, 3]\n",
    "        combined_df.iloc[index, 9] = combined_df.iloc[index, 7]\n",
    "        \n",
    "        \n",
    "\n",
    "combined_df.sort_values(by = 'Line_Item_ID', inplace = True)        \n",
    "for index, row in combined_df.iterrows():\n",
    "    combined_df.iloc[index, 10] = (combined_df.iloc[index, 3] + combined_df.iloc[index-1, 10])\n",
    "    combined_df.iloc[index, 11] = (combined_df.iloc[index, 7] + combined_df.iloc[index-1, 11])\n",
    "    \n",
    "burnt_garlic_tonkotsu_ramen_df = combined_df[combined_df.Item_Ordered == 'burnt garlic tonkotsu ramen']\n",
    "miso_crab_ramen_df = combined_df[combined_df.Item_Ordered == 'miso crab ramen']\n",
    "nagomi_shoyu_df = combined_df[combined_df.Item_Ordered == 'nagomi shoyu']\n",
    "shio_ramen_df = combined_df[combined_df.Item_Ordered == 'shio ramen']\n",
    "soft_shell_miso_crab_ramen_df = combined_df[combined_df.Item_Ordered == 'soft-shell miso crab ramen']\n",
    "spicy_miso_ramen_df = combined_df[combined_df.Item_Ordered == 'spicy miso ramen']\n",
    "tonkotsu_ramen_df = combined_df[combined_df.Item_Ordered == 'tonkotsu ramen']\n",
    "tori_paitan_ramen_df = combined_df[combined_df.Item_Ordered == 'tori paitan ramen']\n",
    "truffle_butter_ramen_df = combined_df[combined_df.Item_Ordered == 'truffle butter ramen']\n",
    "vegetarian_curry_king_trumpet_mushroom_ramen_df = combined_df[combined_df.Item_Ordered == 'vegetarian curry + king trumpet mushroom ramen']\n",
    "vegetarian_spicy_miso_df = combined_df[combined_df.Item_Ordered == 'vegetarian spicy miso']\n",
    "\n",
    "\n",
    "burnt_garlic_tonkotsu_ramen_df_count = cleanup_df_count(burnt_garlic_tonkotsu_ramen_df)\n",
    "burnt_garlic_tonkotsu_ramen_df_sum = cleanup_df_sum(burnt_garlic_tonkotsu_ramen_df)\n",
    "\n",
    "miso_crab_ramen_df_count = cleanup_df_count(miso_crab_ramen_df)\n",
    "miso_crab_ramen_df_sum = cleanup_df_sum(miso_crab_ramen_df)\n",
    "\n",
    "nagomi_shoyu_df_count = cleanup_df_count(nagomi_shoyu_df)\n",
    "nagomi_shoyu_df_sum = cleanup_df_sum(nagomi_shoyu_df)\n",
    "\n",
    "shio_ramen_df_count = cleanup_df_count(shio_ramen_df)\n",
    "shio_ramen_df_sum = cleanup_df_sum(shio_ramen_df)\n",
    "\n",
    "soft_shell_miso_crab_ramen_df_count = cleanup_df_count(soft_shell_miso_crab_ramen_df)\n",
    "soft_shell_miso_crab_ramen_df_sum = cleanup_df_sum(soft_shell_miso_crab_ramen_df)\n",
    "\n",
    "spicy_miso_ramen_df_count = cleanup_df_count(spicy_miso_ramen_df)\n",
    "spicy_miso_ramen_df_sum = cleanup_df_sum(spicy_miso_ramen_df)\n",
    "\n",
    "tonkotsu_ramen_df_count = cleanup_df_count(tonkotsu_ramen_df)\n",
    "tonkotsu_ramen_df_sum = cleanup_df_sum(tonkotsu_ramen_df)\n",
    "\n",
    "tori_paitan_ramen_df_count = cleanup_df_count(tori_paitan_ramen_df)\n",
    "tori_paitan_ramen_df_sum = cleanup_df_sum(tori_paitan_ramen_df)\n",
    "\n",
    "truffle_butter_ramen_df_count = cleanup_df_count(truffle_butter_ramen_df)\n",
    "truffle_butter_ramen_df_sum = cleanup_df_sum(truffle_butter_ramen_df)\n",
    "\n",
    "vegetarian_curry_king_trumpet_mushroom_ramen_df_count = cleanup_df_count(vegetarian_curry_king_trumpet_mushroom_ramen_df)\n",
    "vegetarian_curry_king_trumpet_mushroom_ramen_df_sum = cleanup_df_sum(vegetarian_curry_king_trumpet_mushroom_ramen_df)\n",
    "\n",
    "vegetarian_spicy_miso_df_count = cleanup_df_count(vegetarian_spicy_miso_df)\n",
    "vegetarian_spicy_miso_df_sum = cleanup_df_sum(vegetarian_spicy_miso_df)\n",
    "\n",
    "list_of_count_dfs = [\n",
    "    burnt_garlic_tonkotsu_ramen_df_count, \n",
    "    miso_crab_ramen_df_count,\n",
    "    nagomi_shoyu_df_count,\n",
    "    shio_ramen_df_count,\n",
    "    soft_shell_miso_crab_ramen_df_count,\n",
    "    spicy_miso_ramen_df_count,\n",
    "    tonkotsu_ramen_df_count,\n",
    "    tori_paitan_ramen_df_count,\n",
    "    truffle_butter_ramen_df_count,\n",
    "    vegetarian_curry_king_trumpet_mushroom_ramen_df_count,\n",
    "    vegetarian_spicy_miso_df_count\n",
    "]\n",
    "list_of_sum_dfs = [\n",
    "    burnt_garlic_tonkotsu_ramen_df_sum,\n",
    "    miso_crab_ramen_df_sum,\n",
    "    nagomi_shoyu_df_sum,\n",
    "    shio_ramen_df_sum,\n",
    "    soft_shell_miso_crab_ramen_df_sum,\n",
    "    spicy_miso_ramen_df_sum,\n",
    "    tonkotsu_ramen_df_sum,\n",
    "    tori_paitan_ramen_df_sum,\n",
    "    truffle_butter_ramen_df_sum,\n",
    "    vegetarian_curry_king_trumpet_mushroom_ramen_df_sum,\n",
    "    vegetarian_spicy_miso_df_sum\n",
    "]\n",
    "\n",
    "print('Done')"
   ]
  },
  {
   "cell_type": "code",
   "execution_count": 70,
   "metadata": {},
   "outputs": [
    {
     "name": "stdout",
     "output_type": "stream",
     "text": [
      "Done\n"
     ]
    }
   ],
   "source": [
    "print('Done')"
   ]
  },
  {
   "cell_type": "code",
   "execution_count": 6,
   "metadata": {},
   "outputs": [
    {
     "data": {
      "text/html": [
       "<div>\n",
       "<style scoped>\n",
       "    .dataframe tbody tr th:only-of-type {\n",
       "        vertical-align: middle;\n",
       "    }\n",
       "\n",
       "    .dataframe tbody tr th {\n",
       "        vertical-align: top;\n",
       "    }\n",
       "\n",
       "    .dataframe thead th {\n",
       "        text-align: right;\n",
       "    }\n",
       "</style>\n",
       "<table border=\"1\" class=\"dataframe\">\n",
       "  <thead>\n",
       "    <tr style=\"text-align: right;\">\n",
       "      <th></th>\n",
       "      <th>Item_Ordered</th>\n",
       "      <th>Line_Item_ID</th>\n",
       "      <th>Date</th>\n",
       "      <th>Quantity</th>\n",
       "      <th>Customer_Id</th>\n",
       "      <th>Price</th>\n",
       "      <th>Cost</th>\n",
       "      <th>Revenue</th>\n",
       "      <th>Item_Quantity_Over_Time</th>\n",
       "      <th>Item_Revenue_Over_Time</th>\n",
       "      <th>Quantity_Over_Time</th>\n",
       "      <th>Revenue_Over_Time</th>\n",
       "    </tr>\n",
       "  </thead>\n",
       "  <tbody>\n",
       "    <tr>\n",
       "      <th>33470</th>\n",
       "      <td>spicy miso ramen</td>\n",
       "      <td>1</td>\n",
       "      <td>2017-01-01</td>\n",
       "      <td>1</td>\n",
       "      <td>1</td>\n",
       "      <td>12.0</td>\n",
       "      <td>5</td>\n",
       "      <td>7.0</td>\n",
       "      <td>1</td>\n",
       "      <td>7.0</td>\n",
       "      <td>1</td>\n",
       "      <td>7.0</td>\n",
       "    </tr>\n",
       "    <tr>\n",
       "      <th>33471</th>\n",
       "      <td>spicy miso ramen</td>\n",
       "      <td>2</td>\n",
       "      <td>2017-01-01</td>\n",
       "      <td>1</td>\n",
       "      <td>1</td>\n",
       "      <td>12.0</td>\n",
       "      <td>5</td>\n",
       "      <td>7.0</td>\n",
       "      <td>2</td>\n",
       "      <td>14.0</td>\n",
       "      <td>2</td>\n",
       "      <td>14.0</td>\n",
       "    </tr>\n",
       "    <tr>\n",
       "      <th>47072</th>\n",
       "      <td>tori paitan ramen</td>\n",
       "      <td>3</td>\n",
       "      <td>2017-01-01</td>\n",
       "      <td>3</td>\n",
       "      <td>2</td>\n",
       "      <td>13.0</td>\n",
       "      <td>6</td>\n",
       "      <td>33.0</td>\n",
       "      <td>3</td>\n",
       "      <td>33.0</td>\n",
       "      <td>5</td>\n",
       "      <td>47.0</td>\n",
       "    </tr>\n",
       "    <tr>\n",
       "      <th>47073</th>\n",
       "      <td>tori paitan ramen</td>\n",
       "      <td>4</td>\n",
       "      <td>2017-01-01</td>\n",
       "      <td>3</td>\n",
       "      <td>2</td>\n",
       "      <td>13.0</td>\n",
       "      <td>6</td>\n",
       "      <td>33.0</td>\n",
       "      <td>6</td>\n",
       "      <td>66.0</td>\n",
       "      <td>8</td>\n",
       "      <td>80.0</td>\n",
       "    </tr>\n",
       "    <tr>\n",
       "      <th>53890</th>\n",
       "      <td>truffle butter ramen</td>\n",
       "      <td>5</td>\n",
       "      <td>2017-01-01</td>\n",
       "      <td>1</td>\n",
       "      <td>3</td>\n",
       "      <td>14.0</td>\n",
       "      <td>7</td>\n",
       "      <td>7.0</td>\n",
       "      <td>1</td>\n",
       "      <td>7.0</td>\n",
       "      <td>9</td>\n",
       "      <td>87.0</td>\n",
       "    </tr>\n",
       "  </tbody>\n",
       "</table>\n",
       "</div>"
      ],
      "text/plain": [
       "               Item_Ordered  Line_Item_ID       Date  Quantity  Customer_Id  \\\n",
       "33470      spicy miso ramen             1 2017-01-01         1            1   \n",
       "33471      spicy miso ramen             2 2017-01-01         1            1   \n",
       "47072     tori paitan ramen             3 2017-01-01         3            2   \n",
       "47073     tori paitan ramen             4 2017-01-01         3            2   \n",
       "53890  truffle butter ramen             5 2017-01-01         1            3   \n",
       "\n",
       "       Price  Cost  Revenue  Item_Quantity_Over_Time  Item_Revenue_Over_Time  \\\n",
       "33470   12.0     5      7.0                        1                     7.0   \n",
       "33471   12.0     5      7.0                        2                    14.0   \n",
       "47072   13.0     6     33.0                        3                    33.0   \n",
       "47073   13.0     6     33.0                        6                    66.0   \n",
       "53890   14.0     7      7.0                        1                     7.0   \n",
       "\n",
       "       Quantity_Over_Time  Revenue_Over_Time  \n",
       "33470                   1                7.0  \n",
       "33471                   2               14.0  \n",
       "47072                   5               47.0  \n",
       "47073                   8               80.0  \n",
       "53890                   9               87.0  "
      ]
     },
     "execution_count": 6,
     "metadata": {},
     "output_type": "execute_result"
    }
   ],
   "source": [
    "combined_df.head()"
   ]
  },
  {
   "cell_type": "code",
   "execution_count": 42,
   "metadata": {},
   "outputs": [],
   "source": [
    "growth_over_time_df = combined_df[['Date', 'Quantity_Over_Time', 'Revenue_Over_Time']].copy()"
   ]
  },
  {
   "cell_type": "code",
   "execution_count": 43,
   "metadata": {},
   "outputs": [
    {
     "data": {
      "text/html": [
       "<div>\n",
       "<style scoped>\n",
       "    .dataframe tbody tr th:only-of-type {\n",
       "        vertical-align: middle;\n",
       "    }\n",
       "\n",
       "    .dataframe tbody tr th {\n",
       "        vertical-align: top;\n",
       "    }\n",
       "\n",
       "    .dataframe thead th {\n",
       "        text-align: right;\n",
       "    }\n",
       "</style>\n",
       "<table border=\"1\" class=\"dataframe\">\n",
       "  <thead>\n",
       "    <tr style=\"text-align: right;\">\n",
       "      <th></th>\n",
       "      <th></th>\n",
       "      <th>Quantity_Over_Time</th>\n",
       "      <th>Revenue_Over_Time</th>\n",
       "    </tr>\n",
       "    <tr>\n",
       "      <th>Date</th>\n",
       "      <th>Date</th>\n",
       "      <th></th>\n",
       "      <th></th>\n",
       "    </tr>\n",
       "  </thead>\n",
       "  <tbody>\n",
       "    <tr>\n",
       "      <th rowspan=\"5\" valign=\"top\">2017</th>\n",
       "      <th>1</th>\n",
       "      <td>7171718</td>\n",
       "      <td>59987914.0</td>\n",
       "    </tr>\n",
       "    <tr>\n",
       "      <th>2</th>\n",
       "      <td>14145851</td>\n",
       "      <td>117980011.0</td>\n",
       "    </tr>\n",
       "    <tr>\n",
       "      <th>3</th>\n",
       "      <td>12016841</td>\n",
       "      <td>99884371.0</td>\n",
       "    </tr>\n",
       "    <tr>\n",
       "      <th>4</th>\n",
       "      <td>13266269</td>\n",
       "      <td>109430974.0</td>\n",
       "    </tr>\n",
       "    <tr>\n",
       "      <th>5</th>\n",
       "      <td>14340089</td>\n",
       "      <td>117830174.0</td>\n",
       "    </tr>\n",
       "  </tbody>\n",
       "</table>\n",
       "</div>"
      ],
      "text/plain": [
       "           Quantity_Over_Time  Revenue_Over_Time\n",
       "Date Date                                       \n",
       "2017 1                7171718         59987914.0\n",
       "     2               14145851        117980011.0\n",
       "     3               12016841         99884371.0\n",
       "     4               13266269        109430974.0\n",
       "     5               14340089        117830174.0"
      ]
     },
     "execution_count": 43,
     "metadata": {},
     "output_type": "execute_result"
    }
   ],
   "source": [
    "growth_over_time_df.set_index('Date', inplace = True)\n",
    "growth_over_time_df = growth_over_time_df.groupby(by=[growth_over_time_df.index.year, growth_over_time_df.index.month]).sum()\n",
    "growth_over_time_df.head()"
   ]
  },
  {
   "cell_type": "code",
   "execution_count": 48,
   "metadata": {},
   "outputs": [
    {
     "name": "stdout",
     "output_type": "stream",
     "text": [
      "hello\n"
     ]
    }
   ],
   "source": [
    "# # growth_over_time_df.reset_index(inplace = True)\n",
    "# for index, row in growth_over_time_df.iterrows():\n",
    "#     if index == (2017,1):\n",
    "#         print('hello')\n",
    "#         break\n",
    "#     print(index)"
   ]
  },
  {
   "cell_type": "code",
   "execution_count": 52,
   "metadata": {},
   "outputs": [],
   "source": [
    "# growth_over_time_df.reset_index(level=1, drop=True)\n"
   ]
  },
  {
   "cell_type": "code",
   "execution_count": 51,
   "metadata": {},
   "outputs": [],
   "source": [
    "# growth_over_time_df.plot(y = 'Quantity_Over_Time', x = 'Date', figsize = (20,20))"
   ]
  },
  {
   "cell_type": "code",
   "execution_count": 60,
   "metadata": {},
   "outputs": [],
   "source": [
    "raw_data = pd.DataFrame(\n",
    "    {\n",
    "        'Mycol' : [20123,20123,20124,20124,20124,20125],\n",
    "        'Data' : [1,2,3,4,5,6]\n",
    "    }\n",
    ")\n",
    "# raw_data['Mycol'] =  pd.to_datetime(raw_data['Mycol'], format='%Y%m')\n"
   ]
  },
  {
   "cell_type": "code",
   "execution_count": 84,
   "metadata": {},
   "outputs": [
    {
     "data": {
      "text/plain": [
       "<matplotlib.axes._subplots.AxesSubplot at 0x1fa34559e08>"
      ]
     },
     "execution_count": 84,
     "metadata": {},
     "output_type": "execute_result"
    },
    {
     "data": {
      "image/png": "[encoded data removed]",
      "text/plain": [
       "<Figure size 432x288 with 1 Axes>"
      ]
     },
     "metadata": {
      "needs_background": "light"
     },
     "output_type": "display_data"
    }
   ],
   "source": [
    "ax = vegetarian_spicy_miso_df_sum.plot(y = ['Item_Revenue_Over_Time', 'Customer_Id'], legend = True)\n",
    "vegetarian_curry_king_trumpet_mushroom_ramen_df_sum.plot(y = ['Item_Revenue_Over_Time', 'Customer_Id'], ax=ax, legend = True)\n"
   ]
  },
  {
   "cell_type": "code",
   "execution_count": 66,
   "metadata": {},
   "outputs": [],
   "source": [
    "raw_data['Mycol'] =  pd.to_datetime(raw_data['Mycol'], format='%Y-%m')\n"
   ]
  },
  {
   "cell_type": "code",
   "execution_count": 65,
   "metadata": {},
   "outputs": [
    {
     "data": {
      "text/plain": [
       "'2016-07'"
      ]
     },
     "execution_count": 65,
     "metadata": {},
     "output_type": "execute_result"
    }
   ],
   "source": [
    "from datetime import datetime as dt\n",
    "\n",
    "'{:%Y-%m}'.format(dt.strptime('2016-07-31', '%Y-%m-%d'))"
   ]
  },
  {
   "cell_type": "code",
   "execution_count": 68,
   "metadata": {},
   "outputs": [
    {
     "data": {
      "text/plain": [
       "Mycol    datetime64[ns]\n",
       "Data              int64\n",
       "dtype: object"
      ]
     },
     "execution_count": 68,
     "metadata": {},
     "output_type": "execute_result"
    }
   ],
   "source": [
    "raw_data.dtypes"
   ]
  },
  {
   "cell_type": "code",
   "execution_count": null,
   "metadata": {},
   "outputs": [],
   "source": []
  }
 ],
 "metadata": {
  "kernelspec": {
   "display_name": "Python 3",
   "language": "python",
   "name": "python3"
  },
  "language_info": {
   "codemirror_mode": {
    "name": "ipython",
    "version": 3
   },
   "file_extension": ".py",
   "mimetype": "text/x-python",
   "name": "python",
   "nbconvert_exporter": "python",
   "pygments_lexer": "ipython3",
   "version": "3.7.7"
  }
 },
 "nbformat": 4,
 "nbformat_minor": 4
}
