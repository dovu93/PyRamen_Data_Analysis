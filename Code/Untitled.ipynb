{
 "cells": [
  {
   "cell_type": "code",
   "execution_count": 2,
   "metadata": {},
   "outputs": [],
   "source": [
    "import pandas as pd\n",
    "from pathlib import Path"
   ]
  },
  {
   "cell_type": "code",
   "execution_count": 10,
   "metadata": {},
   "outputs": [],
   "source": [
    "budget_csv_path = Path('../Data/budget_data.csv')\n",
    "sales_csv_path = Path('../Data/sales_data.csv')\n",
    "menu_csv_path = Path('../Data/menu_data.csv')"
   ]
  },
  {
   "cell_type": "code",
   "execution_count": 25,
   "metadata": {},
   "outputs": [],
   "source": [
    "budget_df = pd.read_csv(budget_csv_path)\n",
    "sales_df = pd.read_csv(sales_csv_path, index_col = 'Line_Item_ID')\n",
    "menu_df = pd.read_csv(menu_csv_path)"
   ]
  },
  {
   "cell_type": "code",
   "execution_count": 44,
   "metadata": {},
   "outputs": [
    {
     "data": {
      "text/plain": [
       "Date                  datetime64[ns]\n",
       "Credit_Card_Number             int64\n",
       "Quantity                       int64\n",
       "Menu_Item                     object\n",
       "dtype: object"
      ]
     },
     "execution_count": 44,
     "metadata": {},
     "output_type": "execute_result"
    }
   ],
   "source": [
    "sales_df.dtypes"
   ]
  },
  {
   "cell_type": "code",
   "execution_count": 26,
   "metadata": {},
   "outputs": [],
   "source": [
    "# sales_df.groupby(\"Menu_Item\").count()\n",
    "sales_df['Date'] = pd.to_datetime(sales_df['Date'])"
   ]
  },
  {
   "cell_type": "code",
   "execution_count": 51,
   "metadata": {},
   "outputs": [],
   "source": [
    "grouped_sales = sales_df.groupby(['Date', 'Credit_Card_Number', 'Menu_Item']).sum()"
   ]
  },
  {
   "cell_type": "code",
   "execution_count": 52,
   "metadata": {},
   "outputs": [
    {
     "data": {
      "text/html": [
       "<div>\n",
       "<style scoped>\n",
       "    .dataframe tbody tr th:only-of-type {\n",
       "        vertical-align: middle;\n",
       "    }\n",
       "\n",
       "    .dataframe tbody tr th {\n",
       "        vertical-align: top;\n",
       "    }\n",
       "\n",
       "    .dataframe thead th {\n",
       "        text-align: right;\n",
       "    }\n",
       "</style>\n",
       "<table border=\"1\" class=\"dataframe\">\n",
       "  <thead>\n",
       "    <tr style=\"text-align: right;\">\n",
       "      <th></th>\n",
       "      <th></th>\n",
       "      <th></th>\n",
       "      <th>Quantity</th>\n",
       "    </tr>\n",
       "    <tr>\n",
       "      <th>Date</th>\n",
       "      <th>Credit_Card_Number</th>\n",
       "      <th>Menu_Item</th>\n",
       "      <th></th>\n",
       "    </tr>\n",
       "  </thead>\n",
       "  <tbody>\n",
       "    <tr>\n",
       "      <th rowspan=\"10\" valign=\"top\">2017-01-01</th>\n",
       "      <th>25488869766864</th>\n",
       "      <th>soft-shell miso crab ramen</th>\n",
       "      <td>2</td>\n",
       "    </tr>\n",
       "    <tr>\n",
       "      <th>36480379221833</th>\n",
       "      <th>tori paitan ramen</th>\n",
       "      <td>6</td>\n",
       "    </tr>\n",
       "    <tr>\n",
       "      <th>89395923107334</th>\n",
       "      <th>nagomi shoyu</th>\n",
       "      <td>2</td>\n",
       "    </tr>\n",
       "    <tr>\n",
       "      <th>135512259164914</th>\n",
       "      <th>shio ramen</th>\n",
       "      <td>2</td>\n",
       "    </tr>\n",
       "    <tr>\n",
       "      <th>160368623399516</th>\n",
       "      <th>soft-shell miso crab ramen</th>\n",
       "      <td>2</td>\n",
       "    </tr>\n",
       "    <tr>\n",
       "      <th>164673264403463</th>\n",
       "      <th>spicy miso ramen</th>\n",
       "      <td>8</td>\n",
       "    </tr>\n",
       "    <tr>\n",
       "      <th>197955612531512</th>\n",
       "      <th>vegetarian curry + king trumpet mushroom ramen</th>\n",
       "      <td>2</td>\n",
       "    </tr>\n",
       "    <tr>\n",
       "      <th>203567346724240</th>\n",
       "      <th>soft-shell miso crab ramen</th>\n",
       "      <td>4</td>\n",
       "    </tr>\n",
       "    <tr>\n",
       "      <th>353471709272555</th>\n",
       "      <th>vegetarian spicy miso</th>\n",
       "      <td>2</td>\n",
       "    </tr>\n",
       "    <tr>\n",
       "      <th>440092900011093</th>\n",
       "      <th>vegetarian curry + king trumpet mushroom ramen</th>\n",
       "      <td>2</td>\n",
       "    </tr>\n",
       "  </tbody>\n",
       "</table>\n",
       "</div>"
      ],
      "text/plain": [
       "                                                                              Quantity\n",
       "Date       Credit_Card_Number Menu_Item                                               \n",
       "2017-01-01 25488869766864     soft-shell miso crab ramen                             2\n",
       "           36480379221833     tori paitan ramen                                      6\n",
       "           89395923107334     nagomi shoyu                                           2\n",
       "           135512259164914    shio ramen                                             2\n",
       "           160368623399516    soft-shell miso crab ramen                             2\n",
       "           164673264403463    spicy miso ramen                                       8\n",
       "           197955612531512    vegetarian curry + king trumpet mushroom ramen         2\n",
       "           203567346724240    soft-shell miso crab ramen                             4\n",
       "           353471709272555    vegetarian spicy miso                                  2\n",
       "           440092900011093    vegetarian curry + king trumpet mushroom ramen         2"
      ]
     },
     "execution_count": 52,
     "metadata": {},
     "output_type": "execute_result"
    }
   ],
   "source": [
    "grouped_sales.head(10)"
   ]
  },
  {
   "cell_type": "code",
   "execution_count": 53,
   "metadata": {},
   "outputs": [
    {
     "data": {
      "text/html": [
       "<div>\n",
       "<style scoped>\n",
       "    .dataframe tbody tr th:only-of-type {\n",
       "        vertical-align: middle;\n",
       "    }\n",
       "\n",
       "    .dataframe tbody tr th {\n",
       "        vertical-align: top;\n",
       "    }\n",
       "\n",
       "    .dataframe thead th {\n",
       "        text-align: right;\n",
       "    }\n",
       "</style>\n",
       "<table border=\"1\" class=\"dataframe\">\n",
       "  <thead>\n",
       "    <tr style=\"text-align: right;\">\n",
       "      <th></th>\n",
       "      <th></th>\n",
       "      <th></th>\n",
       "      <th>Quantity</th>\n",
       "    </tr>\n",
       "    <tr>\n",
       "      <th>Date</th>\n",
       "      <th>Credit_Card_Number</th>\n",
       "      <th>Menu_Item</th>\n",
       "      <th></th>\n",
       "    </tr>\n",
       "  </thead>\n",
       "  <tbody>\n",
       "    <tr>\n",
       "      <th rowspan=\"5\" valign=\"top\">2017-01-01</th>\n",
       "      <th>25488869766864</th>\n",
       "      <th>soft-shell miso crab ramen</th>\n",
       "      <td>2</td>\n",
       "    </tr>\n",
       "    <tr>\n",
       "      <th>36480379221833</th>\n",
       "      <th>tori paitan ramen</th>\n",
       "      <td>6</td>\n",
       "    </tr>\n",
       "    <tr>\n",
       "      <th>89395923107334</th>\n",
       "      <th>nagomi shoyu</th>\n",
       "      <td>2</td>\n",
       "    </tr>\n",
       "    <tr>\n",
       "      <th>135512259164914</th>\n",
       "      <th>shio ramen</th>\n",
       "      <td>2</td>\n",
       "    </tr>\n",
       "    <tr>\n",
       "      <th>160368623399516</th>\n",
       "      <th>soft-shell miso crab ramen</th>\n",
       "      <td>2</td>\n",
       "    </tr>\n",
       "    <tr>\n",
       "      <th>...</th>\n",
       "      <th>...</th>\n",
       "      <th>...</th>\n",
       "      <td>...</td>\n",
       "    </tr>\n",
       "    <tr>\n",
       "      <th rowspan=\"5\" valign=\"top\">2018-12-31</th>\n",
       "      <th>9641894213232480</th>\n",
       "      <th>miso crab ramen</th>\n",
       "      <td>2</td>\n",
       "    </tr>\n",
       "    <tr>\n",
       "      <th>9750957466915125</th>\n",
       "      <th>soft-shell miso crab ramen</th>\n",
       "      <td>2</td>\n",
       "    </tr>\n",
       "    <tr>\n",
       "      <th>9794251638634207</th>\n",
       "      <th>shio ramen</th>\n",
       "      <td>2</td>\n",
       "    </tr>\n",
       "    <tr>\n",
       "      <th>9803783656690951</th>\n",
       "      <th>vegetarian curry + king trumpet mushroom ramen</th>\n",
       "      <td>2</td>\n",
       "    </tr>\n",
       "    <tr>\n",
       "      <th>9919788788224883</th>\n",
       "      <th>spicy miso ramen</th>\n",
       "      <td>2</td>\n",
       "    </tr>\n",
       "  </tbody>\n",
       "</table>\n",
       "<p>37062 rows × 1 columns</p>\n",
       "</div>"
      ],
      "text/plain": [
       "                                                                              Quantity\n",
       "Date       Credit_Card_Number Menu_Item                                               \n",
       "2017-01-01 25488869766864     soft-shell miso crab ramen                             2\n",
       "           36480379221833     tori paitan ramen                                      6\n",
       "           89395923107334     nagomi shoyu                                           2\n",
       "           135512259164914    shio ramen                                             2\n",
       "           160368623399516    soft-shell miso crab ramen                             2\n",
       "...                                                                                ...\n",
       "2018-12-31 9641894213232480   miso crab ramen                                        2\n",
       "           9750957466915125   soft-shell miso crab ramen                             2\n",
       "           9794251638634207   shio ramen                                             2\n",
       "           9803783656690951   vegetarian curry + king trumpet mushroom ramen         2\n",
       "           9919788788224883   spicy miso ramen                                       2\n",
       "\n",
       "[37062 rows x 1 columns]"
      ]
     },
     "execution_count": 53,
     "metadata": {},
     "output_type": "execute_result"
    }
   ],
   "source": [
    "grouped_sales"
   ]
  },
  {
   "cell_type": "code",
   "execution_count": null,
   "metadata": {},
   "outputs": [],
   "source": []
  }
 ],
 "metadata": {
  "kernelspec": {
   "display_name": "Python 3",
   "language": "python",
   "name": "python3"
  },
  "language_info": {
   "codemirror_mode": {
    "name": "ipython",
    "version": 3
   },
   "file_extension": ".py",
   "mimetype": "text/x-python",
   "name": "python",
   "nbconvert_exporter": "python",
   "pygments_lexer": "ipython3",
   "version": "3.7.7"
  }
 },
 "nbformat": 4,
 "nbformat_minor": 4
}
